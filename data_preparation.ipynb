{
 "cells": [
  {
   "cell_type": "code",
   "execution_count": null,
   "id": "2cf08450",
   "metadata": {},
   "outputs": [],
   "source": [
    "# IMPORTS\n",
    "\n",
    "import os\n",
    "import pickle"
   ]
  },
  {
   "cell_type": "code",
   "execution_count": null,
   "id": "54ae6f53",
   "metadata": {},
   "outputs": [],
   "source": [
    "## LOAD DATA\n",
    "\n",
    "loaded_data = []\n",
    "\n",
    "folder = './grasp_data/'\n",
    "file_names = []\n",
    "\n",
    "for file in os.listdir(folder):    \n",
    "    complete_name = folder + file\n",
    "    file_names.append(complete_name)\n",
    "\n",
    "for file in file_names:\n",
    "    print(file)\n",
    "    with open(file, 'rb') as f:\n",
    "        data = pickle.load(f)\n",
    "        loaded_data.append(data)"
   ]
  },
  {
   "cell_type": "code",
   "execution_count": null,
   "id": "de260077",
   "metadata": {},
   "outputs": [],
   "source": [
    "# SAVE DATA INTO NEW DATA STRUCTURES SPLIT BY OBJECT IDENTITY\n",
    "\n",
    "all_trajectories = {}\n",
    "all_successes = {}\n",
    "\n",
    "for file in loaded_data:\n",
    "    for env in file:\n",
    "        if env[0] not in all_trajectories.keys():\n",
    "            all_trajectories[env[0]] = [env[2]]\n",
    "        elif env[0] in all_trajectories.keys():\n",
    "            all_trajectories[env[0]].append(env[2])\n",
    "        if env[0] not in all_successes.keys():\n",
    "            all_successes[env[0]] = [env[1]]\n",
    "        elif env[0] in all_successes.keys():\n",
    "            all_successes[env[0]].append(env[1])\n",
    "        \n",
    "for object in all_trajectories:\n",
    "    if len(all_trajectories[object]) < 200:\n",
    "        print(object, len(all_trajectories[object]))"
   ]
  },
  {
   "cell_type": "code",
   "execution_count": null,
   "id": "31a0bedd",
   "metadata": {},
   "outputs": [],
   "source": [
    "# KEEP 200 TRAJECTORIES PER OBJECT\n",
    "\n",
    "for object in all_trajectories:\n",
    "    if len(all_trajectories[object]) > 200:\n",
    "        all_trajectories[object] = all_trajectories[object][:200]\n",
    "\n",
    "for object in all_successes:\n",
    "    if len(all_successes[object]) > 200:\n",
    "        all_successes[object] = all_successes[object][:200]"
   ]
  },
  {
   "cell_type": "code",
   "execution_count": null,
   "id": "6134cec6",
   "metadata": {},
   "outputs": [],
   "source": [
    "# SAVE FINAL DATASET \n",
    "\n",
    "with open('final_trajectories_randomized.pkl', 'wb') as f:\n",
    "    pickle.dump(all_trajectories, f)\n",
    "\n",
    "with open('final_successes_randomized.pkl', 'wb') as f:\n",
    "    pickle.dump(all_successes, f)"
   ]
  }
 ],
 "metadata": {
  "language_info": {
   "name": "python"
  }
 },
 "nbformat": 4,
 "nbformat_minor": 5
}
